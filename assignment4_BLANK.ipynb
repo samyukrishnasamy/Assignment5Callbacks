{
 "cells": [
  {
   "cell_type": "markdown",
   "metadata": {},
   "source": [
    "### Assignment #4: Basic UI\n",
    "\n",
    "DS4003 | Spring 2024\n",
    "\n",
    "Objective: Practice buidling basic UI components in Dash. \n",
    "\n",
    "Task: Build an app that contains the following components user the gapminder dataset: `gdp_pcap.csv`. [Info](https://www.gapminder.org/gdp-per-capita/)\n",
    "\n",
    "UI Components:\n",
    "A dropdown menu that allows the user to select `country`\n",
    "-   The dropdown should allow the user to select multiple countries\n",
    "-   The options should populate from the dataset (not be hard-coded)\n",
    "A slider that allows the user to select `year`\n",
    "-   The slider should allow the user to select a range of years\n",
    "-   The range should be from the minimum year in the dataset to the maximum year in the dataset\n",
    "A graph that displays the `gdpPercap` for the selected countries over the selected years\n",
    "-   The graph should display the gdpPercap for each country as a line\n",
    "-   Each country should have a unique color\n",
    "-   Graph DOES NOT need to interact with dropdown or slider\n",
    "-   The graph should have a title and axis labels in reader friendly format  \n",
    "\n",
    "Layout:  \n",
    "- Use a stylesheet\n",
    "- There should be a title at the top of the page\n",
    "- There should be a description of the data and app below the title (3-5 sentences)\n",
    "- The dropdown and slider should be side by side above the graph and take up the full width of the page\n",
    "- The graph should be below the dropdown and slider and take up the full width of the page\n",
    "\n",
    "Submission: \n",
    "- There should be only one app in your submitted work\n",
    "- Comment your code\n",
    "- Submit the html file of the notebook save as `DS4003_A4_LastName.html`\n",
    "\n",
    "\n",
    "**For help you may use the web resources and pandas documentation. No co-pilot or ChatGPT.**"
   ]
  },
  {
   "cell_type": "code",
   "execution_count": 63,
   "metadata": {},
   "outputs": [],
   "source": [
    "# import dependencies\n",
    "from dash import Dash, dcc, html, Input, Output, callback\n",
    "import pandas as pd\n",
    "import plotly.express as px\n"
   ]
  },
  {
   "cell_type": "code",
   "execution_count": 64,
   "metadata": {},
   "outputs": [],
   "source": [
    "### DATA SET ### \n",
    "# read the csv file\n",
    "gdp = pd.read_csv(\"gdp_pcap.csv\")\n",
    "\n",
    "#convert the dataset so that the years are combines to make a column\n",
    "gdp_long = gdp.melt(id_vars=['country'], var_name='Year', value_name='gdpPercap')\n",
    "gdp_long['Year'] = pd.to_numeric(gdp_long['Year'])  # convert the 'Year' column to numeric"
   ]
  },
  {
   "cell_type": "code",
   "execution_count": 65,
   "metadata": {},
   "outputs": [],
   "source": [
    "### APP LAYOUT ###\n",
    "# stylesheet\n",
    "stylesheets = ['https://codepen.io/chriddyp/pen/bWLwgP.css']\n",
    "# initialize Dash app\n",
    "app = Dash(__name__, external_stylesheets=stylesheets)\n",
    "\n",
    "# create the app\n",
    "app.layout = html.Div([\n",
    "   html.H1(children=\"GDP Per Capita\"), # app title\n",
    "   html.Div(children=''' \n",
    "            Explore the GDP per capita across different countries and years using this interactive app.\n",
    "            Gapminder's dataset provides the estimates of Gross Domestic Product (GDP) per capita for all countries from 1800 to 2100.\n",
    "            Select one or more countries and a range of years to visualize the GDP per capita over the years.\n",
    "    '''), # app description\n",
    "    # display the dropdown and slider\n",
    "    html.Div([\n",
    "        # dropdown menu for countries\n",
    "        dcc.Dropdown(\n",
    "            id='country',\n",
    "            options=[{'label': country, 'value': country} for country in gdp_long['country'].unique()], # show all the unique country values\n",
    "            value =[\"USA\"], # initialize the country so that dropdown automatically has USA selected\n",
    "            multi=True,  # allow multiple selections\n",
    "            className = 'six columns'\n",
    "        ),\n",
    "        # range slider for years\n",
    "        dcc.RangeSlider(min = gdp_long[\"Year\"].min(), \n",
    "                        max = gdp_long[\"Year\"].max(), \n",
    "                        step = 1,\n",
    "                        marks = {year: str(year) for year in range(gdp_long['Year'].min(), gdp_long['Year'].max() + 1, 100)}, # have every 100 years marked in the slider\n",
    "                        value = [gdp_long['Year'].min(), gdp_long['Year'].max()], # initilaize so the slider automatically has 1800 to 2100 \n",
    "                        id = 'years',\n",
    "                        tooltip={\"placement\": \"bottom\", \"always_visible\": True},\n",
    "                        className = 'six columns'\n",
    "                        )\n",
    "    ], className = 'row'),\n",
    "    \n",
    "    #display the graph\n",
    "    dcc.Graph(id = 'graph')\n",
    "])\n"
   ]
  },
  {
   "cell_type": "code",
   "execution_count": 66,
   "metadata": {},
   "outputs": [
    {
     "name": "stdout",
     "output_type": "stream",
     "text": [
      "Index(['country', 'Year', 'gdpPercap'], dtype='object')\n"
     ]
    },
    {
     "data": {
      "text/html": [
       "\n",
       "        <iframe\n",
       "            width=\"100%\"\n",
       "            height=\"650\"\n",
       "            src=\"http://127.0.0.1:8050/\"\n",
       "            frameborder=\"0\"\n",
       "            allowfullscreen\n",
       "            \n",
       "        ></iframe>\n",
       "        "
      ],
      "text/plain": [
       "<IPython.lib.display.IFrame at 0x14204de20>"
      ]
     },
     "metadata": {},
     "output_type": "display_data"
    }
   ],
   "source": [
    "## GRAPH ## \n",
    "# get the inputs from dropdown and slider\n",
    "@app.callback(\n",
    "    Output('graph', 'figure'),\n",
    "    [Input('country', 'value'), # country input\n",
    "     Input('years', 'value')]   # year input\n",
    ")\n",
    "\n",
    "# make the graph\n",
    "def update_figure(selected_countries, selected_year):\n",
    "   # filter the dataset so that it only includes selected years and countries\n",
    "   filtered_gdp = gdp_long[\n",
    "       (gdp_long['Year'] >= selected_year[0]) & \n",
    "       (gdp_long['Year'] <= selected_year[1])\n",
    "    ]\n",
    "\n",
    "   # aggregate gdp by year\n",
    "   total_gdp_by_year = gdp_long.groupby(['Year', 'country'])['gdpPercap'].sum().reset_index()\n",
    "\n",
    "   # if the countries are selected, filter the data to only include those countries\n",
    "   if selected_countries:\n",
    "       total_gdp_by_year = total_gdp_by_year[filtered_gdp['country'].isin(selected_countries)]\n",
    "   \n",
    "\n",
    "# make the line graph\n",
    "   fig = px.line(\n",
    "       total_gdp_by_year,\n",
    "       x=\"Year\", \n",
    "       y=\"gdpPercap\",\n",
    "       color=\"country\",\n",
    "       title= f'GDP for {selected_countries} from {selected_year[0]} to {selected_year[1]}',\n",
    "       height = 550\n",
    "    )\n",
    "\n",
    "   fig.update_layout(\n",
    "       yaxis_title = \"Total GDP\",\n",
    "       xaxis_title = \"Year\"\n",
    ")\n",
    "   \n",
    "   return fig\n",
    "\n",
    "print(gdp_long.columns)  # Replace gdp_long with your actual DataFrame variable name\n",
    "\n",
    "\n",
    "# run the app on a tab\n",
    "if __name__ == '__main__':\n",
    "    app.run_server(debug=True)\n"
   ]
  }
 ],
 "metadata": {
  "kernelspec": {
   "display_name": "ds4003",
   "language": "python",
   "name": "python3"
  },
  "language_info": {
   "codemirror_mode": {
    "name": "ipython",
    "version": 3
   },
   "file_extension": ".py",
   "mimetype": "text/x-python",
   "name": "python",
   "nbconvert_exporter": "python",
   "pygments_lexer": "ipython3",
   "version": "3.8.18"
  }
 },
 "nbformat": 4,
 "nbformat_minor": 2
}
